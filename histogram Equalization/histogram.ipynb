{
 "cells": [
  {
   "cell_type": "markdown",
   "metadata": {},
   "source": [
    "\n",
    "` Pythonista - Saurabh Zinjad  `\n",
    "## HISTOGRAM EQUALIZATION\n",
    "\n",
    "<b>Histogram equalization</b> is a method in image processing of contrast adjustment using the image’s histogram.\n",
    "\n",
    "This method usually increases the global contrast of many images, especially when the usable data of the image is represented by close contrast values. Through this adjustment, the intensities can be better distributed on the histogram. This allows for areas of lower local contrast to gain a higher contrast. Histogram equalization accomplishes this by effectively spreading out the most frequent intensity values. The method is useful in images with backgrounds and foregrounds that are both bright or both dark. \n"
   ]
  },
  {
   "cell_type": "code",
   "execution_count": 1,
   "metadata": {},
   "outputs": [],
   "source": [
    "#!usr/bin/Python3\n",
    "\n",
    "import cv2\n",
    "import numpy as np\n",
    "import matplotlib.pyplot as plt\n",
    "\n",
    "%matplotlib inline"
   ]
  },
  {
   "cell_type": "code",
   "execution_count": 2,
   "metadata": {},
   "outputs": [],
   "source": [
    "# Read the image\n",
    "img = cv2.imread('./img/hist1.bmp',0)\n",
    "\n",
    "# Show Image\n",
    "cv2.imshow('Image', img)\n",
    "cv2.waitKey(2000)\n",
    "cv2.destroyAllWindows()"
   ]
  },
  {
   "cell_type": "code",
   "execution_count": 3,
   "metadata": {},
   "outputs": [
    {
     "name": "stdout",
     "output_type": "stream",
     "text": [
      "unique Pixel : \n",
      " [ 91  93  94  95  96  97  98  99 101 102 103 104 105 106 107 109 110 111\n",
      " 112 113 114 115 117 118 119 120 121 122 123 125 126 127 128 129 130 131\n",
      " 133 134 135 136 137] \n",
      "\n",
      "Length unique Pixel :  41 \n",
      "\n",
      "Count : \n",
      " [4555   87  382 2980 5010 2633 1996 1461 1476 1460 1333 1487 1666 1995\n",
      " 2067 1821 2096 2088 2491 2254 2249 2171 2431 2018 1846 1751 1590 1622\n",
      " 1240 1095  999  989  755  736  718  652  698  426  186   24    2] \n",
      "\n"
     ]
    }
   ],
   "source": [
    "# Histogram Plot\n",
    "\n",
    "unique_pixel, count = np.unique(img, return_counts = True)\n",
    "# unique_pixel = Unique Pixels in Image\n",
    "# count = Count of each Unique Pixel\n",
    "\n",
    "print('unique Pixel : \\n', unique_pixel, '\\n')\n",
    "print('Length unique Pixel : ', len(unique_pixel), '\\n')\n",
    "print('Count : \\n', count, '\\n')"
   ]
  },
  {
   "cell_type": "code",
   "execution_count": 4,
   "metadata": {},
   "outputs": [
    {
     "data": {
      "text/plain": [
       "Text(0,0.5,'Count of Pixel')"
      ]
     },
     "execution_count": 4,
     "metadata": {},
     "output_type": "execute_result"
    },
    {
     "data": {
      "image/png": "[encoded data removed]",
      "text/plain": [
       "<Figure size 432x288 with 1 Axes>"
      ]
     },
     "metadata": {},
     "output_type": "display_data"
    }
   ],
   "source": [
    "# Plot Histogram\n",
    "\n",
    "plt.bar(unique_pixel, count)\n",
    "plt.title('Histogram')\n",
    "plt.xlabel('Pixel')\n",
    "plt.ylabel('Count of Pixel')"
   ]
  },
  {
   "cell_type": "code",
   "execution_count": 5,
   "metadata": {},
   "outputs": [
    {
     "name": "stdout",
     "output_type": "stream",
     "text": [
      "PDF : \n",
      "\n",
      "[0.0695037841796875, 0.0013275146484375, 0.005828857421875, 0.04547119140625, 0.076446533203125, 0.0401763916015625, 0.03045654296875, 0.0222930908203125, 0.02252197265625, 0.02227783203125, 0.0203399658203125, 0.0226898193359375, 0.025421142578125, 0.0304412841796875, 0.0315399169921875, 0.0277862548828125, 0.031982421875, 0.0318603515625, 0.0380096435546875, 0.034393310546875, 0.0343170166015625, 0.0331268310546875, 0.0370941162109375, 0.030792236328125, 0.028167724609375, 0.0267181396484375, 0.024261474609375, 0.024749755859375, 0.0189208984375, 0.0167083740234375, 0.0152435302734375, 0.0150909423828125, 0.0115203857421875, 0.01123046875, 0.010955810546875, 0.00994873046875, 0.010650634765625, 0.006500244140625, 0.002838134765625, 0.0003662109375, 3.0517578125e-05]\n"
     ]
    }
   ],
   "source": [
    "#Probability Density Function\n",
    "pdf = list()\n",
    "for i in range(len(count)):\n",
    "    pdf.append(count[i]/sum(count))\n",
    "print('PDF : \\n')\n",
    "print(pdf)"
   ]
  },
  {
   "cell_type": "code",
   "execution_count": 6,
   "metadata": {},
   "outputs": [
    {
     "name": "stdout",
     "output_type": "stream",
     "text": [
      "CDF : \n",
      " [0.0695037841796875, 0.070831298828125, 0.07666015625, 0.12213134765625, 0.198577880859375, 0.2387542724609375, 0.2692108154296875, 0.29150390625, 0.31402587890625, 0.3363037109375, 0.3566436767578125, 0.37933349609375, 0.404754638671875, 0.4351959228515625, 0.46673583984375, 0.4945220947265625, 0.5265045166015625, 0.5583648681640625, 0.59637451171875, 0.630767822265625, 0.6650848388671875, 0.698211669921875, 0.7353057861328125, 0.7660980224609375, 0.7942657470703125, 0.82098388671875, 0.845245361328125, 0.8699951171875, 0.888916015625, 0.9056243896484375, 0.920867919921875, 0.9359588623046875, 0.947479248046875, 0.958709716796875, 0.96966552734375, 0.9796142578125, 0.990264892578125, 0.99676513671875, 0.999603271484375, 0.999969482421875, 1.0] \n",
      "\n",
      "Equalized pixel Values : \n",
      " [ 18  18  20  31  51  61  69  74  80  86  91  97 103 111 119 126 134 142\n",
      " 152 161 170 178 188 195 203 209 216 222 227 231 235 239 242 244 247 250\n",
      " 253 254 255 255 255] \n",
      "\n"
     ]
    }
   ],
   "source": [
    "#Cumulative Density Function\n",
    "\n",
    "for i in range(1, len(pdf)):\n",
    "    pdf[i] += pdf[i-1]\n",
    "print('CDF : \\n', pdf, '\\n')\n",
    "pdf = np.around(np.array(pdf)*255).astype(int)\n",
    "print('Equalized pixel Values : \\n',pdf, '\\n')"
   ]
  },
  {
   "cell_type": "code",
   "execution_count": 7,
   "metadata": {
    "scrolled": true
   },
   "outputs": [
    {
     "data": {
      "image/png": "[encoded data removed]",
      "text/plain": [
       "<Figure size 432x288 with 1 Axes>"
      ]
     },
     "metadata": {},
     "output_type": "display_data"
    }
   ],
   "source": [
    "# Plot Equalized Histogram\n",
    "\n",
    "plt.bar(pdf, count)\n",
    "plt.title('\\n Equalized Histogram')\n",
    "plt.xlabel('Pixel')\n",
    "plt.ylabel('Count of Pixel')\n",
    "plt.show()"
   ]
  },
  {
   "cell_type": "markdown",
   "metadata": {},
   "source": [
    "### Output\n",
    "\n",
    "<img src = \"./img/hist1_Out.png\" width=900>"
   ]
  },
  {
   "cell_type": "code",
   "execution_count": null,
   "metadata": {},
   "outputs": [],
   "source": [
    "# creating a Histograms Equalization of a image using cv2.equalizeHist() \n",
    "equ = cv2.equalizeHist(img) \n",
    "\n",
    "# show image input vs output \n",
    "# cv2.imshow('image', equ) \n",
    "res = np.hstack((img,equ)) #stacking images side-by-side\n",
    "cv2.imshow('Comparsion',res)\n",
    "cv2.waitKey(0) \n",
    "cv2.destroyAllWindows() "
   ]
  }
 ],
 "metadata": {
  "kernelspec": {
   "display_name": "Python 3",
   "language": "python",
   "name": "python3"
  },
  "language_info": {
   "codemirror_mode": {
    "name": "ipython",
    "version": 3
   },
   "file_extension": ".py",
   "mimetype": "text/x-python",
   "name": "python",
   "nbconvert_exporter": "python",
   "pygments_lexer": "ipython3",
   "version": "3.6.5"
  }
 },
 "nbformat": 4,
 "nbformat_minor": 2
}
